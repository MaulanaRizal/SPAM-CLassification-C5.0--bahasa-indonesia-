{
 "cells": [
  {
   "cell_type": "code",
   "execution_count": 1,
   "metadata": {},
   "outputs": [],
   "source": [
    "import numpy as np\n",
    "import pandas as pd"
   ]
  },
  {
   "cell_type": "code",
   "execution_count": 2,
   "metadata": {},
   "outputs": [],
   "source": [
    "data = pd.read_csv('dataset/hasil.csv')\n",
    "data = data.head()"
   ]
  },
  {
   "cell_type": "code",
   "execution_count": 3,
   "metadata": {},
   "outputs": [
    {
     "data": {
      "text/html": [
       "<div>\n",
       "<style scoped>\n",
       "    .dataframe tbody tr th:only-of-type {\n",
       "        vertical-align: middle;\n",
       "    }\n",
       "\n",
       "    .dataframe tbody tr th {\n",
       "        vertical-align: top;\n",
       "    }\n",
       "\n",
       "    .dataframe thead th {\n",
       "        text-align: right;\n",
       "    }\n",
       "</style>\n",
       "<table border=\"1\" class=\"dataframe\">\n",
       "  <thead>\n",
       "    <tr style=\"text-align: right;\">\n",
       "      <th></th>\n",
       "      <th>Teks</th>\n",
       "      <th>label</th>\n",
       "      <th>clean</th>\n",
       "    </tr>\n",
       "  </thead>\n",
       "  <tbody>\n",
       "    <tr>\n",
       "      <th>0</th>\n",
       "      <td>[PROMO] Beli paket Flash mulai 1GB di MY TELKO...</td>\n",
       "      <td>promo</td>\n",
       "      <td>promo beli paket flash mulai gb my telkomsel a...</td>\n",
       "    </tr>\n",
       "    <tr>\n",
       "      <th>1</th>\n",
       "      <td>2.5 GB/30 hari hanya Rp 35 Ribu Spesial buat A...</td>\n",
       "      <td>promo</td>\n",
       "      <td>gb hari rp ribu spesial buat yang pilih aktif ...</td>\n",
       "    </tr>\n",
       "    <tr>\n",
       "      <th>2</th>\n",
       "      <td>2016-07-08 11:47:11.Plg Yth, sisa kuota Flash ...</td>\n",
       "      <td>promo</td>\n",
       "      <td>plg yth sisa kuota flash kb download mytelkoms...</td>\n",
       "    </tr>\n",
       "    <tr>\n",
       "      <th>3</th>\n",
       "      <td>2016-08-07 11:29:47.Plg Yth, sisa kuota Flash ...</td>\n",
       "      <td>promo</td>\n",
       "      <td>plg yth sisa kuota flash kb download mytelkoms...</td>\n",
       "    </tr>\n",
       "    <tr>\n",
       "      <th>4</th>\n",
       "      <td>4.5GB/30 hari hanya Rp 55 Ribu Spesial buat an...</td>\n",
       "      <td>promo</td>\n",
       "      <td>gb hari rp ribu spesial buat yang pilih aktif ...</td>\n",
       "    </tr>\n",
       "  </tbody>\n",
       "</table>\n",
       "</div>"
      ],
      "text/plain": [
       "                                                Teks  label  \\\n",
       "0  [PROMO] Beli paket Flash mulai 1GB di MY TELKO...  promo   \n",
       "1  2.5 GB/30 hari hanya Rp 35 Ribu Spesial buat A...  promo   \n",
       "2  2016-07-08 11:47:11.Plg Yth, sisa kuota Flash ...  promo   \n",
       "3  2016-08-07 11:29:47.Plg Yth, sisa kuota Flash ...  promo   \n",
       "4  4.5GB/30 hari hanya Rp 55 Ribu Spesial buat an...  promo   \n",
       "\n",
       "                                               clean  \n",
       "0  promo beli paket flash mulai gb my telkomsel a...  \n",
       "1  gb hari rp ribu spesial buat yang pilih aktif ...  \n",
       "2  plg yth sisa kuota flash kb download mytelkoms...  \n",
       "3  plg yth sisa kuota flash kb download mytelkoms...  \n",
       "4  gb hari rp ribu spesial buat yang pilih aktif ...  "
      ]
     },
     "execution_count": 3,
     "metadata": {},
     "output_type": "execute_result"
    }
   ],
   "source": [
    "data"
   ]
  },
  {
   "cell_type": "code",
   "execution_count": 4,
   "metadata": {},
   "outputs": [],
   "source": [
    "from sklearn.feature_extraction.text import CountVectorizer\n",
    "from sklearn.model_selection import train_test_split\n",
    "\n",
    "data_train, data_test, label_train, label_test = train_test_split(\n",
    "    data.clean,\n",
    "    data.label, \n",
    "    test_size=0.8, \n",
    "    random_state=0)   "
   ]
  },
  {
   "cell_type": "code",
   "execution_count": 5,
   "metadata": {},
   "outputs": [
    {
     "data": {
      "text/plain": [
       "['promo beli paket flash mulai gb my telkomsel app dpt extra kuota gb g lte extra nelpon hingga mnt hr buru cek tsel me mytsel s k',\n",
       " 'gb hari rp ribu spesial buat yang pilih aktif sekarang di promo sd nov buru aktif sekarang s k',\n",
       " 'plg yth sisa kuota flash kb download mytelkomsel apps http tsel me tsel utk cek kuota beli paket flash hub',\n",
       " 'plg yth sisa kuota flash kb download mytelkomsel apps http tsel me tsel utk cek kuota beli paket flash hub',\n",
       " 'gb hari rp ribu spesial buat yang pilih aktif sekarang di buru skb']"
      ]
     },
     "execution_count": 5,
     "metadata": {},
     "output_type": "execute_result"
    }
   ],
   "source": [
    "sms = data['clean'].tolist()\n",
    "sms"
   ]
  },
  {
   "cell_type": "code",
   "execution_count": 6,
   "metadata": {},
   "outputs": [
    {
     "data": {
      "text/plain": [
       "2    plg yth sisa kuota flash kb download mytelkoms...\n",
       "0    promo beli paket flash mulai gb my telkomsel a...\n",
       "1    gb hari rp ribu spesial buat yang pilih aktif ...\n",
       "3    plg yth sisa kuota flash kb download mytelkoms...\n",
       "Name: clean, dtype: object"
      ]
     },
     "execution_count": 6,
     "metadata": {},
     "output_type": "execute_result"
    }
   ],
   "source": [
    "data_test"
   ]
  },
  {
   "cell_type": "code",
   "execution_count": 7,
   "metadata": {},
   "outputs": [],
   "source": [
    "from collections import Counter \n",
    "\n",
    "def uniqueWords(word):\n",
    "    str1 = \" \" \n",
    "    word = str1.join(word)\n",
    "\n",
    "    return word\n",
    "\n",
    "unique = uniqueWords(data_test) "
   ]
  },
  {
   "cell_type": "code",
   "execution_count": 25,
   "metadata": {},
   "outputs": [],
   "source": [
    "dic = {\n",
    "    1 : 100\n",
    "}"
   ]
  },
  {
   "cell_type": "code",
   "execution_count": 9,
   "metadata": {
    "scrolled": true
   },
   "outputs": [
    {
     "name": "stdout",
     "output_type": "stream",
     "text": [
      "plg 2\n",
      "yth 2\n",
      "sisa 2\n",
      "kuota 5\n",
      "flash 5\n",
      "kb 2\n",
      "download 2\n",
      "mytelkomsel 2\n",
      "apps 2\n",
      "http 2\n",
      "tsel 5\n",
      "me 3\n",
      "utk 2\n",
      "cek 3\n",
      "beli 3\n",
      "paket 3\n",
      "hub 2\n",
      "promo 2\n",
      "mulai 1\n",
      "gb 3\n",
      "my 1\n",
      "telkomsel 1\n",
      "app 1\n",
      "dpt 1\n",
      "extra 2\n",
      "g 1\n",
      "lte 1\n",
      "nelpon 1\n",
      "hingga 1\n",
      "mnt 1\n",
      "hr 1\n",
      "buru 2\n",
      "mytsel 1\n",
      "s 2\n",
      "k 2\n",
      "hari 1\n",
      "rp 1\n",
      "ribu 1\n",
      "spesial 1\n",
      "buat 1\n",
      "yang 1\n",
      "pilih 1\n",
      "aktif 2\n",
      "sekarang 2\n",
      "di 1\n",
      "sd 1\n",
      "nov 1\n"
     ]
    }
   ],
   "source": [
    "#mencari TermFrequency\n",
    "\n",
    "tf = {}\n",
    "kata = unique.split()\n",
    "for word in kata:\n",
    "    count = tf.get(word,0)\n",
    "    tf[word] = count + 1\n",
    "    \n",
    "\n",
    "tf_list = tf.keys()\n",
    "\n",
    "for words in tf_list:\n",
    "    print (words, tf[words])"
   ]
  },
  {
   "cell_type": "code",
   "execution_count": 11,
   "metadata": {},
   "outputs": [
    {
     "data": {
      "text/plain": [
       "['promo beli paket flash mulai gb my telkomsel app dpt extra kuota gb g lte extra nelpon hingga mnt hr buru cek tsel me mytsel s k',\n",
       " 'gb hari rp ribu spesial buat yang pilih aktif sekarang di promo sd nov buru aktif sekarang s k',\n",
       " 'plg yth sisa kuota flash kb download mytelkomsel apps http tsel me tsel utk cek kuota beli paket flash hub',\n",
       " 'plg yth sisa kuota flash kb download mytelkomsel apps http tsel me tsel utk cek kuota beli paket flash hub',\n",
       " 'gb hari rp ribu spesial buat yang pilih aktif sekarang di buru skb']"
      ]
     },
     "execution_count": 11,
     "metadata": {},
     "output_type": "execute_result"
    }
   ],
   "source": [
    "sms = data['clean'].tolist()\n",
    "sms"
   ]
  },
  {
   "cell_type": "code",
   "execution_count": 14,
   "metadata": {
    "scrolled": true
   },
   "outputs": [],
   "source": [
    "df = {}\n",
    "\n",
    "for i in range(len(sms)):\n",
    "    kata = sms[i].split()\n",
    "    for j in kata:\n",
    "        try:\n",
    "            df[j].add(i)\n",
    "        except:\n",
    "            df[j] = {i}"
   ]
  },
  {
   "cell_type": "code",
   "execution_count": 15,
   "metadata": {},
   "outputs": [],
   "source": [
    "for i in df:\n",
    "    df[i] = len(df[i])"
   ]
  },
  {
   "cell_type": "code",
   "execution_count": 16,
   "metadata": {
    "scrolled": true
   },
   "outputs": [
    {
     "data": {
      "text/plain": [
       "{'promo': 2,\n",
       " 'beli': 3,\n",
       " 'paket': 3,\n",
       " 'flash': 3,\n",
       " 'mulai': 1,\n",
       " 'gb': 3,\n",
       " 'my': 1,\n",
       " 'telkomsel': 1,\n",
       " 'app': 1,\n",
       " 'dpt': 1,\n",
       " 'extra': 1,\n",
       " 'kuota': 3,\n",
       " 'g': 1,\n",
       " 'lte': 1,\n",
       " 'nelpon': 1,\n",
       " 'hingga': 1,\n",
       " 'mnt': 1,\n",
       " 'hr': 1,\n",
       " 'buru': 3,\n",
       " 'cek': 3,\n",
       " 'tsel': 3,\n",
       " 'me': 3,\n",
       " 'mytsel': 1,\n",
       " 's': 2,\n",
       " 'k': 2,\n",
       " 'hari': 2,\n",
       " 'rp': 2,\n",
       " 'ribu': 2,\n",
       " 'spesial': 2,\n",
       " 'buat': 2,\n",
       " 'yang': 2,\n",
       " 'pilih': 2,\n",
       " 'aktif': 2,\n",
       " 'sekarang': 2,\n",
       " 'di': 2,\n",
       " 'sd': 1,\n",
       " 'nov': 1,\n",
       " 'plg': 2,\n",
       " 'yth': 2,\n",
       " 'sisa': 2,\n",
       " 'kb': 2,\n",
       " 'download': 2,\n",
       " 'mytelkomsel': 2,\n",
       " 'apps': 2,\n",
       " 'http': 2,\n",
       " 'utk': 2,\n",
       " 'hub': 2,\n",
       " 'skb': 1}"
      ]
     },
     "execution_count": 16,
     "metadata": {},
     "output_type": "execute_result"
    }
   ],
   "source": [
    "df"
   ]
  },
  {
   "cell_type": "code",
   "execution_count": 17,
   "metadata": {
    "scrolled": true
   },
   "outputs": [
    {
     "data": {
      "text/plain": [
       "{'plg': 2,\n",
       " 'yth': 2,\n",
       " 'sisa': 2,\n",
       " 'kuota': 5,\n",
       " 'flash': 5,\n",
       " 'kb': 2,\n",
       " 'download': 2,\n",
       " 'mytelkomsel': 2,\n",
       " 'apps': 2,\n",
       " 'http': 2,\n",
       " 'tsel': 5,\n",
       " 'me': 3,\n",
       " 'utk': 2,\n",
       " 'cek': 3,\n",
       " 'beli': 3,\n",
       " 'paket': 3,\n",
       " 'hub': 2,\n",
       " 'promo': 2,\n",
       " 'mulai': 1,\n",
       " 'gb': 3,\n",
       " 'my': 1,\n",
       " 'telkomsel': 1,\n",
       " 'app': 1,\n",
       " 'dpt': 1,\n",
       " 'extra': 2,\n",
       " 'g': 1,\n",
       " 'lte': 1,\n",
       " 'nelpon': 1,\n",
       " 'hingga': 1,\n",
       " 'mnt': 1,\n",
       " 'hr': 1,\n",
       " 'buru': 2,\n",
       " 'mytsel': 1,\n",
       " 's': 2,\n",
       " 'k': 2,\n",
       " 'hari': 1,\n",
       " 'rp': 1,\n",
       " 'ribu': 1,\n",
       " 'spesial': 1,\n",
       " 'buat': 1,\n",
       " 'yang': 1,\n",
       " 'pilih': 1,\n",
       " 'aktif': 2,\n",
       " 'sekarang': 2,\n",
       " 'di': 1,\n",
       " 'sd': 1,\n",
       " 'nov': 1}"
      ]
     },
     "execution_count": 17,
     "metadata": {},
     "output_type": "execute_result"
    }
   ],
   "source": [
    "tf"
   ]
  },
  {
   "cell_type": "code",
   "execution_count": 20,
   "metadata": {},
   "outputs": [
    {
     "data": {
      "text/plain": [
       "['promo beli paket flash mulai gb my telkomsel app dpt extra kuota gb g lte extra nelpon hingga mnt hr buru cek tsel me mytsel s k',\n",
       " 'gb hari rp ribu spesial buat yang pilih aktif sekarang di promo sd nov buru aktif sekarang s k',\n",
       " 'plg yth sisa kuota flash kb download mytelkomsel apps http tsel me tsel utk cek kuota beli paket flash hub',\n",
       " 'plg yth sisa kuota flash kb download mytelkomsel apps http tsel me tsel utk cek kuota beli paket flash hub',\n",
       " 'gb hari rp ribu spesial buat yang pilih aktif sekarang di buru skb']"
      ]
     },
     "execution_count": 20,
     "metadata": {},
     "output_type": "execute_result"
    }
   ],
   "source": [
    "sms"
   ]
  },
  {
   "cell_type": "code",
   "execution_count": 24,
   "metadata": {},
   "outputs": [
    {
     "name": "stdout",
     "output_type": "stream",
     "text": [
      "promo\n",
      "beli\n",
      "paket\n",
      "flash\n",
      "mulai\n",
      "gb\n",
      "my\n",
      "telkomsel\n",
      "app\n",
      "dpt\n",
      "extra\n",
      "kuota\n",
      "gb\n",
      "g\n",
      "lte\n",
      "extra\n",
      "nelpon\n",
      "hingga\n",
      "mnt\n",
      "hr\n",
      "buru\n",
      "cek\n",
      "tsel\n",
      "me\n",
      "mytsel\n",
      "s\n",
      "k\n",
      "gb\n",
      "hari\n",
      "rp\n",
      "ribu\n",
      "spesial\n",
      "buat\n",
      "yang\n",
      "pilih\n",
      "aktif\n",
      "sekarang\n",
      "di\n",
      "promo\n",
      "sd\n",
      "nov\n",
      "buru\n",
      "aktif\n",
      "sekarang\n",
      "s\n",
      "k\n",
      "plg\n",
      "yth\n",
      "sisa\n",
      "kuota\n",
      "flash\n",
      "kb\n",
      "download\n",
      "mytelkomsel\n",
      "apps\n",
      "http\n",
      "tsel\n",
      "me\n",
      "tsel\n",
      "utk\n",
      "cek\n",
      "kuota\n",
      "beli\n",
      "paket\n",
      "flash\n",
      "hub\n",
      "plg\n",
      "yth\n",
      "sisa\n",
      "kuota\n",
      "flash\n",
      "kb\n",
      "download\n",
      "mytelkomsel\n",
      "apps\n",
      "http\n",
      "tsel\n",
      "me\n",
      "tsel\n",
      "utk\n",
      "cek\n",
      "kuota\n",
      "beli\n",
      "paket\n",
      "flash\n",
      "hub\n",
      "gb\n",
      "hari\n",
      "rp\n",
      "ribu\n",
      "spesial\n",
      "buat\n",
      "yang\n",
      "pilih\n",
      "aktif\n",
      "sekarang\n",
      "di\n",
      "buru\n",
      "skb\n"
     ]
    }
   ],
   "source": [
    "TF ={}\n",
    "\n",
    "for i in range(len(sms)):\n",
    "    kata = sms[i].split()\n",
    "    for word in kata:\n",
    "        print (word)"
   ]
  },
  {
   "cell_type": "code",
   "execution_count": null,
   "metadata": {},
   "outputs": [],
   "source": []
  }
 ],
 "metadata": {
  "kernelspec": {
   "display_name": "Python 3",
   "language": "python",
   "name": "python3"
  },
  "language_info": {
   "codemirror_mode": {
    "name": "ipython",
    "version": 3
   },
   "file_extension": ".py",
   "mimetype": "text/x-python",
   "name": "python",
   "nbconvert_exporter": "python",
   "pygments_lexer": "ipython3",
   "version": "3.7.3"
  }
 },
 "nbformat": 4,
 "nbformat_minor": 4
}
