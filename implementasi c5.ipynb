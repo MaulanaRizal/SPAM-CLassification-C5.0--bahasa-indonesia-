{
 "cells": [
  {
   "cell_type": "code",
   "execution_count": 2,
   "metadata": {},
   "outputs": [],
   "source": [
    "import numpy as np\n",
    "import pandas as pd"
   ]
  },
  {
   "cell_type": "markdown",
   "metadata": {},
   "source": [
    "# Load Dataset"
   ]
  },
  {
   "cell_type": "code",
   "execution_count": 51,
   "metadata": {},
   "outputs": [],
   "source": [
    "data = pd.read_csv('dataset/hasil.csv')\n",
    "data = data.head()"
   ]
  },
  {
   "cell_type": "code",
   "execution_count": 52,
   "metadata": {},
   "outputs": [
    {
     "data": {
      "text/html": [
       "<div>\n",
       "<style scoped>\n",
       "    .dataframe tbody tr th:only-of-type {\n",
       "        vertical-align: middle;\n",
       "    }\n",
       "\n",
       "    .dataframe tbody tr th {\n",
       "        vertical-align: top;\n",
       "    }\n",
       "\n",
       "    .dataframe thead th {\n",
       "        text-align: right;\n",
       "    }\n",
       "</style>\n",
       "<table border=\"1\" class=\"dataframe\">\n",
       "  <thead>\n",
       "    <tr style=\"text-align: right;\">\n",
       "      <th></th>\n",
       "      <th>Teks</th>\n",
       "      <th>label</th>\n",
       "      <th>clean</th>\n",
       "    </tr>\n",
       "  </thead>\n",
       "  <tbody>\n",
       "    <tr>\n",
       "      <th>0</th>\n",
       "      <td>[PROMO] Beli paket Flash mulai 1GB di MY TELKO...</td>\n",
       "      <td>promo</td>\n",
       "      <td>promo beli paket flash mulai gb my telkomsel a...</td>\n",
       "    </tr>\n",
       "    <tr>\n",
       "      <th>1</th>\n",
       "      <td>2.5 GB/30 hari hanya Rp 35 Ribu Spesial buat A...</td>\n",
       "      <td>promo</td>\n",
       "      <td>gb hari rp ribu spesial buat yang pilih aktif ...</td>\n",
       "    </tr>\n",
       "    <tr>\n",
       "      <th>2</th>\n",
       "      <td>2016-07-08 11:47:11.Plg Yth, sisa kuota Flash ...</td>\n",
       "      <td>promo</td>\n",
       "      <td>plg yth sisa kuota flash kb download mytelkoms...</td>\n",
       "    </tr>\n",
       "    <tr>\n",
       "      <th>3</th>\n",
       "      <td>2016-08-07 11:29:47.Plg Yth, sisa kuota Flash ...</td>\n",
       "      <td>promo</td>\n",
       "      <td>plg yth sisa kuota flash kb download mytelkoms...</td>\n",
       "    </tr>\n",
       "    <tr>\n",
       "      <th>4</th>\n",
       "      <td>4.5GB/30 hari hanya Rp 55 Ribu Spesial buat an...</td>\n",
       "      <td>promo</td>\n",
       "      <td>gb hari rp ribu spesial buat yang pilih aktif ...</td>\n",
       "    </tr>\n",
       "  </tbody>\n",
       "</table>\n",
       "</div>"
      ],
      "text/plain": [
       "                                                Teks  label  \\\n",
       "0  [PROMO] Beli paket Flash mulai 1GB di MY TELKO...  promo   \n",
       "1  2.5 GB/30 hari hanya Rp 35 Ribu Spesial buat A...  promo   \n",
       "2  2016-07-08 11:47:11.Plg Yth, sisa kuota Flash ...  promo   \n",
       "3  2016-08-07 11:29:47.Plg Yth, sisa kuota Flash ...  promo   \n",
       "4  4.5GB/30 hari hanya Rp 55 Ribu Spesial buat an...  promo   \n",
       "\n",
       "                                               clean  \n",
       "0  promo beli paket flash mulai gb my telkomsel a...  \n",
       "1  gb hari rp ribu spesial buat yang pilih aktif ...  \n",
       "2  plg yth sisa kuota flash kb download mytelkoms...  \n",
       "3  plg yth sisa kuota flash kb download mytelkoms...  \n",
       "4  gb hari rp ribu spesial buat yang pilih aktif ...  "
      ]
     },
     "execution_count": 52,
     "metadata": {},
     "output_type": "execute_result"
    }
   ],
   "source": [
    "data"
   ]
  },
  {
   "cell_type": "code",
   "execution_count": 53,
   "metadata": {},
   "outputs": [],
   "source": [
    "from sklearn.feature_extraction.text import CountVectorizer\n",
    "from sklearn.model_selection import train_test_split\n",
    "\n",
    "data_train, data_test, label_train, label_test = train_test_split(\n",
    "    data.clean,\n",
    "    data.label, \n",
    "    test_size=0.8, \n",
    "    random_state=0)   "
   ]
  },
  {
   "cell_type": "code",
   "execution_count": 54,
   "metadata": {},
   "outputs": [
    {
     "data": {
      "text/plain": [
       "['promo beli paket flash mulai gb my telkomsel app dpt extra kuota gb g lte extra nelpon hingga mnt hr buru cek tsel me mytsel s k',\n",
       " 'gb hari rp ribu spesial buat yang pilih aktif sekarang di promo sd nov buru aktif sekarang s k',\n",
       " 'plg yth sisa kuota flash kb download mytelkomsel apps http tsel me tsel utk cek kuota beli paket flash hub',\n",
       " 'plg yth sisa kuota flash kb download mytelkomsel apps http tsel me tsel utk cek kuota beli paket flash hub',\n",
       " 'gb hari rp ribu spesial buat yang pilih aktif sekarang di buru skb']"
      ]
     },
     "execution_count": 54,
     "metadata": {},
     "output_type": "execute_result"
    }
   ],
   "source": [
    "sms = data['clean'].tolist()\n",
    "sms"
   ]
  },
  {
   "cell_type": "code",
   "execution_count": 55,
   "metadata": {},
   "outputs": [
    {
     "data": {
      "text/plain": [
       "2    plg yth sisa kuota flash kb download mytelkoms...\n",
       "0    promo beli paket flash mulai gb my telkomsel a...\n",
       "1    gb hari rp ribu spesial buat yang pilih aktif ...\n",
       "3    plg yth sisa kuota flash kb download mytelkoms...\n",
       "Name: clean, dtype: object"
      ]
     },
     "execution_count": 55,
     "metadata": {},
     "output_type": "execute_result"
    }
   ],
   "source": [
    "data_test"
   ]
  },
  {
   "cell_type": "code",
   "execution_count": 56,
   "metadata": {},
   "outputs": [
    {
     "data": {
      "text/plain": [
       "'promo beli paket flash mulai gb my telkomsel app dpt extra kuota gb g lte extra nelpon hingga mnt hr buru cek tsel me mytsel s k gb hari rp ribu spesial buat yang pilih aktif sekarang di promo sd nov buru aktif sekarang s k plg yth sisa kuota flash kb download mytelkomsel apps http tsel me tsel utk cek kuota beli paket flash hub plg yth sisa kuota flash kb download mytelkomsel apps http tsel me tsel utk cek kuota beli paket flash hub gb hari rp ribu spesial buat yang pilih aktif sekarang di buru skb'"
      ]
     },
     "execution_count": 56,
     "metadata": {},
     "output_type": "execute_result"
    }
   ],
   "source": [
    "def uniqueWords(word):\n",
    "    str1 = \" \" \n",
    "    word = str1.join(word)\n",
    "\n",
    "    return word\n",
    "\n",
    "unique = uniqueWords(sms) \n",
    "unique"
   ]
  },
  {
   "cell_type": "markdown",
   "metadata": {},
   "source": [
    "# Mencari Term Frequency"
   ]
  },
  {
   "cell_type": "code",
   "execution_count": 57,
   "metadata": {
    "scrolled": true
   },
   "outputs": [],
   "source": [
    "tf = {}\n",
    "kata = unique.split()\n",
    "for word in kata:\n",
    "    count = tf.get(word,0)\n",
    "    tf[word] = count + 1"
   ]
  },
  {
   "cell_type": "code",
   "execution_count": 58,
   "metadata": {},
   "outputs": [
    {
     "name": "stdout",
     "output_type": "stream",
     "text": [
      "{'promo': 2, 'beli': 3, 'paket': 3, 'flash': 5, 'mulai': 1, 'gb': 4, 'my': 1, 'telkomsel': 1, 'app': 1, 'dpt': 1, 'extra': 2, 'kuota': 5, 'g': 1, 'lte': 1, 'nelpon': 1, 'hingga': 1, 'mnt': 1, 'hr': 1, 'buru': 3, 'cek': 3, 'tsel': 5, 'me': 3, 'mytsel': 1, 's': 2, 'k': 2, 'hari': 2, 'rp': 2, 'ribu': 2, 'spesial': 2, 'buat': 2, 'yang': 2, 'pilih': 2, 'aktif': 3, 'sekarang': 3, 'di': 2, 'sd': 1, 'nov': 1, 'plg': 2, 'yth': 2, 'sisa': 2, 'kb': 2, 'download': 2, 'mytelkomsel': 2, 'apps': 2, 'http': 2, 'utk': 2, 'hub': 2, 'skb': 1}\n"
     ]
    }
   ],
   "source": [
    "print (tf)"
   ]
  },
  {
   "cell_type": "markdown",
   "metadata": {},
   "source": [
    "# Document Frecuency"
   ]
  },
  {
   "cell_type": "code",
   "execution_count": 59,
   "metadata": {
    "scrolled": true
   },
   "outputs": [],
   "source": [
    "df = {}\n",
    "\n",
    "for i in range(len(sms)):\n",
    "    kata = sms[i].split()\n",
    "#     print(kata)\n",
    "    for j in kata:\n",
    "        try:\n",
    "            df[j].add(i)\n",
    "        except:\n",
    "            df[j] = {i}\n",
    "        \n",
    "for i in df:\n",
    "    df[i] = len(df[i])"
   ]
  },
  {
   "cell_type": "code",
   "execution_count": 60,
   "metadata": {
    "scrolled": true
   },
   "outputs": [
    {
     "name": "stdout",
     "output_type": "stream",
     "text": [
      "{'promo': 2, 'beli': 3, 'paket': 3, 'flash': 3, 'mulai': 1, 'gb': 3, 'my': 1, 'telkomsel': 1, 'app': 1, 'dpt': 1, 'extra': 1, 'kuota': 3, 'g': 1, 'lte': 1, 'nelpon': 1, 'hingga': 1, 'mnt': 1, 'hr': 1, 'buru': 3, 'cek': 3, 'tsel': 3, 'me': 3, 'mytsel': 1, 's': 2, 'k': 2, 'hari': 2, 'rp': 2, 'ribu': 2, 'spesial': 2, 'buat': 2, 'yang': 2, 'pilih': 2, 'aktif': 2, 'sekarang': 2, 'di': 2, 'sd': 1, 'nov': 1, 'plg': 2, 'yth': 2, 'sisa': 2, 'kb': 2, 'download': 2, 'mytelkomsel': 2, 'apps': 2, 'http': 2, 'utk': 2, 'hub': 2, 'skb': 1}\n"
     ]
    }
   ],
   "source": [
    "print (df)"
   ]
  },
  {
   "cell_type": "markdown",
   "metadata": {},
   "source": [
    "# Menghitung TF-IDF"
   ]
  },
  {
   "cell_type": "code",
   "execution_count": 48,
   "metadata": {},
   "outputs": [
    {
     "name": "stdout",
     "output_type": "stream",
     "text": [
      "{'apakah': 0.0625, 'saling': 0.0625, 'tanya': 0.125, 'berita': 0.0625, 'besar': 0.0625, 'hari': 0.0625, 'bangkit': 0.0625, 'dalam': 0.0625, 'itu': 0.0625, 'selisih': 0.0625, 'sekali': 0.125, 'kali': 0.125, 'kelak': 0.125, 'akan': 0.0625, 'tahu': 0.125, 'kemudian': 0.0625}\n"
     ]
    }
   ],
   "source": [
    "TFValue = {}\n",
    "\n",
    "for i in tf:\n",
    "    value = tf.get(i)/len(TF)\n",
    "    TFValue[i] = value\n",
    "print (TFValue)"
   ]
  },
  {
   "cell_type": "code",
   "execution_count": 17,
   "metadata": {
    "scrolled": true
   },
   "outputs": [],
   "source": [
    "# TFValue"
   ]
  },
  {
   "cell_type": "code",
   "execution_count": 50,
   "metadata": {
    "scrolled": true
   },
   "outputs": [
    {
     "name": "stdout",
     "output_type": "stream",
     "text": [
      "{'apakah': 1.3862943611198906, 'saling': 1.3862943611198906, 'tanya': 1.3862943611198906, 'berita': 1.3862943611198906, 'besar': 1.3862943611198906, 'hari': 1.3862943611198906, 'bangkit': 1.3862943611198906, 'dalam': 1.3862943611198906, 'itu': 1.3862943611198906, 'selisih': 1.3862943611198906, 'sekali': 0.6931471805599453, 'kali': 0.6931471805599453, 'kelak': 0.6931471805599453, 'akan': 1.3862943611198906, 'tahu': 0.6931471805599453, 'kemudian': 1.3862943611198906}\n"
     ]
    }
   ],
   "source": [
    "import math\n",
    "\n",
    "IDFValue = {}\n",
    "\n",
    "for i in df:\n",
    "    value = math.log(len(data_test)/df.get(i))\n",
    "    IDFValue[i] = value\n",
    "    \n",
    "print (IDFValue)"
   ]
  },
  {
   "cell_type": "code",
   "execution_count": 64,
   "metadata": {},
   "outputs": [
    {
     "name": "stdout",
     "output_type": "stream",
     "text": [
      "apakah  :  0.08664339756999316\n",
      "saling  :  0.08664339756999316\n",
      "tanya  :  0.17328679513998632\n",
      "berita  :  0.08664339756999316\n",
      "besar  :  0.08664339756999316\n",
      "hari  :  0.08664339756999316\n",
      "bangkit  :  0.08664339756999316\n",
      "dalam  :  0.08664339756999316\n",
      "itu  :  0.08664339756999316\n",
      "selisih  :  0.08664339756999316\n",
      "sekali  :  0.08664339756999316\n",
      "kali  :  0.08664339756999316\n",
      "kelak  :  0.08664339756999316\n",
      "akan  :  0.08664339756999316\n",
      "tahu  :  0.08664339756999316\n",
      "kemudian  :  0.08664339756999316\n"
     ]
    }
   ],
   "source": [
    "def computeTFIDF(TFValue,IDFValue):\n",
    "    for i in TFValue:\n",
    "        TFIDF = TFValue.get(i)*IDFValue.get(i)\n",
    "        print (i,' : ',TFIDF)\n",
    "    \n",
    "computeTFIDF(IDFValue,TFValue)"
   ]
  },
  {
   "cell_type": "code",
   "execution_count": 44,
   "metadata": {
    "scrolled": true
   },
   "outputs": [
    {
     "name": "stdout",
     "output_type": "stream",
     "text": [
      "apakah  :  0.08664339756999316\n",
      "saling  :  0.08664339756999316\n",
      "tanya  :  0.17328679513998632\n",
      "berita  :  0.08664339756999316\n",
      "besar  :  0.08664339756999316\n",
      "hari  :  0.08664339756999316\n",
      "bangkit  :  0.08664339756999316\n",
      "dalam  :  0.08664339756999316\n",
      "itu  :  0.08664339756999316\n",
      "selisih  :  0.08664339756999316\n",
      "sekali  :  0.08664339756999316\n",
      "kali  :  0.08664339756999316\n",
      "kelak  :  0.08664339756999316\n",
      "akan  :  0.08664339756999316\n",
      "tahu  :  0.08664339756999316\n",
      "kemudian  :  0.08664339756999316\n"
     ]
    }
   ],
   "source": [
    "import math\n",
    "\n",
    "def hitungTFIDF(tf,idf):\n",
    "    TFValue = {}\n",
    "    IDFValue = {}\n",
    "    TFIDF = {}\n",
    "    \n",
    "    for i in tf:\n",
    "        value = tf.get(i)/len(TF)\n",
    "        TFValue[i] = value\n",
    "    \n",
    "    \n",
    "\n",
    "    for i in df:\n",
    "        value = math.log(len(data_test)/df.get(i))\n",
    "        IDFValue[i] = value\n",
    "    \n",
    "    for i in tf:\n",
    "        TFIDF[i] = TFValue.get(i)*IDFValue.get(i)\n",
    "        print (i,' : ',TFIDF[i])\n",
    "        \n",
    "    return TFIDF\n",
    "\n",
    "TFIDF = hitungTFIDF(tf,df)"
   ]
  },
  {
   "cell_type": "code",
   "execution_count": 46,
   "metadata": {},
   "outputs": [
    {
     "data": {
      "text/plain": [
       "16"
      ]
     },
     "execution_count": 46,
     "metadata": {},
     "output_type": "execute_result"
    }
   ],
   "source": [
    "len(TFIDF)"
   ]
  },
  {
   "cell_type": "markdown",
   "metadata": {},
   "source": [
    "# JUNIARTI JELEK"
   ]
  },
  {
   "cell_type": "code",
   "execution_count": null,
   "metadata": {},
   "outputs": [],
   "source": []
  }
 ],
 "metadata": {
  "kernelspec": {
   "display_name": "Python 3",
   "language": "python",
   "name": "python3"
  },
  "language_info": {
   "codemirror_mode": {
    "name": "ipython",
    "version": 3
   },
   "file_extension": ".py",
   "mimetype": "text/x-python",
   "name": "python",
   "nbconvert_exporter": "python",
   "pygments_lexer": "ipython3",
   "version": "3.7.3"
  }
 },
 "nbformat": 4,
 "nbformat_minor": 4
}
