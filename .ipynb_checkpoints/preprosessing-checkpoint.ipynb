{
 "cells": [
  {
   "cell_type": "code",
   "execution_count": 2,
   "metadata": {},
   "outputs": [],
   "source": [
    "import numpy as np\n",
    "import pandas as pd"
   ]
  },
  {
   "cell_type": "code",
   "execution_count": 3,
   "metadata": {},
   "outputs": [
    {
     "data": {
      "text/html": [
       "<div>\n",
       "<style scoped>\n",
       "    .dataframe tbody tr th:only-of-type {\n",
       "        vertical-align: middle;\n",
       "    }\n",
       "\n",
       "    .dataframe tbody tr th {\n",
       "        vertical-align: top;\n",
       "    }\n",
       "\n",
       "    .dataframe thead th {\n",
       "        text-align: right;\n",
       "    }\n",
       "</style>\n",
       "<table border=\"1\" class=\"dataframe\">\n",
       "  <thead>\n",
       "    <tr style=\"text-align: right;\">\n",
       "      <th></th>\n",
       "      <th>Teks</th>\n",
       "      <th>label</th>\n",
       "    </tr>\n",
       "  </thead>\n",
       "  <tbody>\n",
       "    <tr>\n",
       "      <th>0</th>\n",
       "      <td>[PROMO] Beli paket Flash mulai 1GB di MY TELKO...</td>\n",
       "      <td>promo</td>\n",
       "    </tr>\n",
       "    <tr>\n",
       "      <th>1</th>\n",
       "      <td>2.5 GB/30 hari hanya Rp 35 Ribu Spesial buat A...</td>\n",
       "      <td>promo</td>\n",
       "    </tr>\n",
       "    <tr>\n",
       "      <th>2</th>\n",
       "      <td>2016-07-08 11:47:11.Plg Yth, sisa kuota Flash ...</td>\n",
       "      <td>promo</td>\n",
       "    </tr>\n",
       "    <tr>\n",
       "      <th>3</th>\n",
       "      <td>2016-08-07 11:29:47.Plg Yth, sisa kuota Flash ...</td>\n",
       "      <td>promo</td>\n",
       "    </tr>\n",
       "    <tr>\n",
       "      <th>4</th>\n",
       "      <td>4.5GB/30 hari hanya Rp 55 Ribu Spesial buat an...</td>\n",
       "      <td>promo</td>\n",
       "    </tr>\n",
       "    <tr>\n",
       "      <th>5</th>\n",
       "      <td>5 HARI LAGI ! EKSTRA Pulsa 50rb dg beli paket ...</td>\n",
       "      <td>promo</td>\n",
       "    </tr>\n",
       "    <tr>\n",
       "      <th>6</th>\n",
       "      <td>Ada iRing dgn tarif Rp. 0,1/7hr (perpanjangan ...</td>\n",
       "      <td>promo</td>\n",
       "    </tr>\n",
       "    <tr>\n",
       "      <th>7</th>\n",
       "      <td>Akhir bulan harus tetap eksis loh! Internetan ...</td>\n",
       "      <td>promo</td>\n",
       "    </tr>\n",
       "    <tr>\n",
       "      <th>8</th>\n",
       "      <td>Aktifkan iRing Coboy Jr - Terhebat. Tekan *808...</td>\n",
       "      <td>promo</td>\n",
       "    </tr>\n",
       "    <tr>\n",
       "      <th>9</th>\n",
       "      <td>Ambil bonus harianmu di *600# (Bebas Pulsa). D...</td>\n",
       "      <td>promo</td>\n",
       "    </tr>\n",
       "  </tbody>\n",
       "</table>\n",
       "</div>"
      ],
      "text/plain": [
       "                                                Teks  label\n",
       "0  [PROMO] Beli paket Flash mulai 1GB di MY TELKO...  promo\n",
       "1  2.5 GB/30 hari hanya Rp 35 Ribu Spesial buat A...  promo\n",
       "2  2016-07-08 11:47:11.Plg Yth, sisa kuota Flash ...  promo\n",
       "3  2016-08-07 11:29:47.Plg Yth, sisa kuota Flash ...  promo\n",
       "4  4.5GB/30 hari hanya Rp 55 Ribu Spesial buat an...  promo\n",
       "5  5 HARI LAGI ! EKSTRA Pulsa 50rb dg beli paket ...  promo\n",
       "6  Ada iRing dgn tarif Rp. 0,1/7hr (perpanjangan ...  promo\n",
       "7  Akhir bulan harus tetap eksis loh! Internetan ...  promo\n",
       "8  Aktifkan iRing Coboy Jr - Terhebat. Tekan *808...  promo\n",
       "9  Ambil bonus harianmu di *600# (Bebas Pulsa). D...  promo"
      ]
     },
     "execution_count": 3,
     "metadata": {},
     "output_type": "execute_result"
    }
   ],
   "source": [
    "data = pd.read_csv('dataset/raw.csv');\n",
    "data = data.head(10)\n",
    "data\n"
   ]
  },
  {
   "cell_type": "code",
   "execution_count": 4,
   "metadata": {},
   "outputs": [
    {
     "data": {
      "text/plain": [
       "Teks     0\n",
       "label    0\n",
       "dtype: int64"
      ]
     },
     "execution_count": 4,
     "metadata": {},
     "output_type": "execute_result"
    }
   ],
   "source": [
    "data.isnull().sum()"
   ]
  },
  {
   "cell_type": "code",
   "execution_count": 5,
   "metadata": {},
   "outputs": [],
   "source": [
    "#buat fungsi preprocessing\n",
    "import re\n",
    "from Sastrawi.Stemmer.StemmerFactory import StemmerFactory\n",
    "from Sastrawi.StopWordRemover.StopWordRemoverFactory import StopWordRemoverFactory\n",
    "\n",
    "def prepros(data):\n",
    "    \n",
    "    #casefolding\n",
    "    hasil = data.lower()\n",
    "    \n",
    "#     filtering\n",
    "#     text=re.sub(\"[^a-zA-Z]\",\" \",str(text))\n",
    "    hasil = re.sub('[^a-zA-Z]',' ',str(hasil))\n",
    "\n",
    "    \n",
    "#     stemming \n",
    "    factory = StemmerFactory()\n",
    "    stemmer = factory.create_stemmer()\n",
    " \n",
    "    hasil = stemmer.stem(hasil)\n",
    "  \n",
    "    \n",
    "#     remove stopword\n",
    "    factory = StopWordRemoverFactory()\n",
    "    stopword = factory.create_stop_word_remover()\n",
    "    \n",
    "    hasil = stopword.remove(hasil)\n",
    "\n",
    "    \n",
    "    #tokenizing\n",
    "#     hasil = hasil.split()\n",
    "    print (hasil)\n",
    "    return hasil\n"
   ]
  },
  {
   "cell_type": "code",
   "execution_count": 6,
   "metadata": {
    "scrolled": true
   },
   "outputs": [
    {
     "name": "stdout",
     "output_type": "stream",
     "text": [
      "promo beli paket flash mulai gb my telkomsel app dpt extra kuota gb g lte extra nelpon hingga mnt hr buru cek tsel me mytsel s k\n",
      "gb hari rp ribu spesial buat yang pilih aktif sekarang di promo sd nov buru aktif sekarang s k\n",
      "plg yth sisa kuota flash kb download mytelkomsel apps http tsel me tsel utk cek kuota beli paket flash hub\n",
      "plg yth sisa kuota flash kb download mytelkomsel apps http tsel me tsel utk cek kuota beli paket flash hub\n",
      "gb hari rp ribu spesial buat yang pilih aktif sekarang di buru skb\n",
      "hari ekstra pulsa rb dg beli paket internet bulan mytelkomsel utk beli pertama sjk aug sept cek detail promo tsel me mytsel\n",
      "iring dgn tarif rp hr panjang rp hr hits armada curi hati tekan lalu call info\n",
      "akhir bulan tetap eks loh internetan pake volume ultima mb hr hrga mulai rp rb tarif lokasi cek tsel me fl\n",
      "aktif iring coboy jr hebat tekan info hits baru noah engkau aktif iring nya hp kamu ketik mg noah kirim info berkah iring rp dr yuni shara akhir aktif iring nya tkn lalu call raih thr puluhanjt henti unreg\n",
      "ambil bonus hari bebas pulsa dptkan gratis nelpon internetan promo sesuai hobi\n"
     ]
    }
   ],
   "source": [
    "data['clean'] = data['Teks'].apply(prepros)"
   ]
  },
  {
   "cell_type": "code",
   "execution_count": 27,
   "metadata": {},
   "outputs": [
    {
     "data": {
      "text/html": [
       "<div>\n",
       "<style scoped>\n",
       "    .dataframe tbody tr th:only-of-type {\n",
       "        vertical-align: middle;\n",
       "    }\n",
       "\n",
       "    .dataframe tbody tr th {\n",
       "        vertical-align: top;\n",
       "    }\n",
       "\n",
       "    .dataframe thead th {\n",
       "        text-align: right;\n",
       "    }\n",
       "</style>\n",
       "<table border=\"1\" class=\"dataframe\">\n",
       "  <thead>\n",
       "    <tr style=\"text-align: right;\">\n",
       "      <th></th>\n",
       "      <th>Teks</th>\n",
       "      <th>label</th>\n",
       "      <th>clean</th>\n",
       "    </tr>\n",
       "  </thead>\n",
       "  <tbody>\n",
       "    <tr>\n",
       "      <th>0</th>\n",
       "      <td>[PROMO] Beli paket Flash mulai 1GB di MY TELKO...</td>\n",
       "      <td>promo</td>\n",
       "      <td>promo beli paket flash mulai gb my telkomsel a...</td>\n",
       "    </tr>\n",
       "    <tr>\n",
       "      <th>1</th>\n",
       "      <td>2.5 GB/30 hari hanya Rp 35 Ribu Spesial buat A...</td>\n",
       "      <td>promo</td>\n",
       "      <td>gb hari rp ribu spesial buat yang pilih aktif ...</td>\n",
       "    </tr>\n",
       "    <tr>\n",
       "      <th>2</th>\n",
       "      <td>2016-07-08 11:47:11.Plg Yth, sisa kuota Flash ...</td>\n",
       "      <td>promo</td>\n",
       "      <td>plg yth sisa kuota flash kb download mytelkoms...</td>\n",
       "    </tr>\n",
       "    <tr>\n",
       "      <th>3</th>\n",
       "      <td>2016-08-07 11:29:47.Plg Yth, sisa kuota Flash ...</td>\n",
       "      <td>promo</td>\n",
       "      <td>plg yth sisa kuota flash kb download mytelkoms...</td>\n",
       "    </tr>\n",
       "    <tr>\n",
       "      <th>4</th>\n",
       "      <td>4.5GB/30 hari hanya Rp 55 Ribu Spesial buat an...</td>\n",
       "      <td>promo</td>\n",
       "      <td>gb hari rp ribu spesial buat yang pilih aktif ...</td>\n",
       "    </tr>\n",
       "    <tr>\n",
       "      <th>...</th>\n",
       "      <td>...</td>\n",
       "      <td>...</td>\n",
       "      <td>...</td>\n",
       "    </tr>\n",
       "    <tr>\n",
       "      <th>1138</th>\n",
       "      <td>Yooo sama2, oke nanti aku umumin di grup kelas</td>\n",
       "      <td>normal</td>\n",
       "      <td>yooo sama oke aku umumin grup kelas</td>\n",
       "    </tr>\n",
       "    <tr>\n",
       "      <th>1139</th>\n",
       "      <td>😁 sebelumnya ga ad nulis kerudung. Kirain warn...</td>\n",
       "      <td>normal</td>\n",
       "      <td>ga ad nulis kerudung kirain warna jins</td>\n",
       "    </tr>\n",
       "    <tr>\n",
       "      <th>1140</th>\n",
       "      <td>Mba mau kirim 300 ya</td>\n",
       "      <td>normal</td>\n",
       "      <td>mba mau kirim</td>\n",
       "    </tr>\n",
       "    <tr>\n",
       "      <th>1141</th>\n",
       "      <td>nama1  beaok bwrangkat pagi...mau cas atay tra...</td>\n",
       "      <td>normal</td>\n",
       "      <td>nama beaok bwrangkat pagi mau cas atay tranfer</td>\n",
       "    </tr>\n",
       "    <tr>\n",
       "      <th>1142</th>\n",
       "      <td>No bri atas nama kamu mana</td>\n",
       "      <td>normal</td>\n",
       "      <td>no bri atas nama kamu mana</td>\n",
       "    </tr>\n",
       "  </tbody>\n",
       "</table>\n",
       "<p>1143 rows × 3 columns</p>\n",
       "</div>"
      ],
      "text/plain": [
       "                                                   Teks   label  \\\n",
       "0     [PROMO] Beli paket Flash mulai 1GB di MY TELKO...   promo   \n",
       "1     2.5 GB/30 hari hanya Rp 35 Ribu Spesial buat A...   promo   \n",
       "2     2016-07-08 11:47:11.Plg Yth, sisa kuota Flash ...   promo   \n",
       "3     2016-08-07 11:29:47.Plg Yth, sisa kuota Flash ...   promo   \n",
       "4     4.5GB/30 hari hanya Rp 55 Ribu Spesial buat an...   promo   \n",
       "...                                                 ...     ...   \n",
       "1138     Yooo sama2, oke nanti aku umumin di grup kelas  normal   \n",
       "1139  😁 sebelumnya ga ad nulis kerudung. Kirain warn...  normal   \n",
       "1140                               Mba mau kirim 300 ya  normal   \n",
       "1141  nama1  beaok bwrangkat pagi...mau cas atay tra...  normal   \n",
       "1142                         No bri atas nama kamu mana  normal   \n",
       "\n",
       "                                                  clean  \n",
       "0     promo beli paket flash mulai gb my telkomsel a...  \n",
       "1     gb hari rp ribu spesial buat yang pilih aktif ...  \n",
       "2     plg yth sisa kuota flash kb download mytelkoms...  \n",
       "3     plg yth sisa kuota flash kb download mytelkoms...  \n",
       "4     gb hari rp ribu spesial buat yang pilih aktif ...  \n",
       "...                                                 ...  \n",
       "1138                yooo sama oke aku umumin grup kelas  \n",
       "1139             ga ad nulis kerudung kirain warna jins  \n",
       "1140                                      mba mau kirim  \n",
       "1141     nama beaok bwrangkat pagi mau cas atay tranfer  \n",
       "1142                         no bri atas nama kamu mana  \n",
       "\n",
       "[1143 rows x 3 columns]"
      ]
     },
     "execution_count": 27,
     "metadata": {},
     "output_type": "execute_result"
    }
   ],
   "source": [
    "data"
   ]
  },
  {
   "cell_type": "code",
   "execution_count": 28,
   "metadata": {},
   "outputs": [],
   "source": [
    "export_csv=data.to_csv('dataset/hasil.csv',index=None,header=True)"
   ]
  },
  {
   "cell_type": "code",
   "execution_count": 9,
   "metadata": {},
   "outputs": [
    {
     "data": {
      "text/plain": [
       "1"
      ]
     },
     "execution_count": 9,
     "metadata": {},
     "output_type": "execute_result"
    }
   ],
   "source": [
    "num"
   ]
  },
  {
   "cell_type": "code",
   "execution_count": 18,
   "metadata": {},
   "outputs": [
    {
     "name": "stdout",
     "output_type": "stream",
     "text": [
      "['yang', 'depan', 'Dengan', 'Menggunakan', 'Python', 'Library', 'Sastrawi', 'dapat', 'melakukan', 'proses', 'Stopword', 'Removal']\n"
     ]
    }
   ],
   "source": [
    "# import StopWordRemoverFactory class\n",
    "from Sastrawi.StopWordRemover.StopWordRemoverFactory import StopWordRemoverFactory\n",
    " \n",
    "factory = StopWordRemoverFactory()\n",
    "stopword = factory.create_stop_word_remover()\n",
    " \n",
    "# Kalimat\n",
    "kalimat = 'di yang depan Dengan Menggunakan Python dan Library Sastrawi saya dapat melakukan proses Stopword Removal'\n",
    "stop = stopword.remove(kalimat)\n",
    "stop = stop.split()\n",
    "\n",
    "print(stop)"
   ]
  },
  {
   "cell_type": "code",
   "execution_count": 59,
   "metadata": {},
   "outputs": [
    {
     "name": "stdout",
     "output_type": "stream",
     "text": [
      "valentino bukankah balas rossi tampak sangat sesal telah jatuh pada lap akhir motogp prancis 2017\n"
     ]
    }
   ],
   "source": [
    "from Sastrawi.Stemmer.StemmerFactory import StemmerFactory\n",
    "factory = StemmerFactory()\n",
    "stemmer = factory.create_stemmer()\n",
    " \n",
    "kalimat = 'Valentino bukankah pembalasan Rossi tampak sangat menyesal setelah terjatuh pada lap terakhir MotoGP Prancis 2017'\n",
    "katadasar = stemmer.stem(kalimat)\n",
    " \n",
    "print(katadasar)"
   ]
  },
  {
   "cell_type": "code",
   "execution_count": 1,
   "metadata": {},
   "outputs": [],
   "source": [
    "list = ['yang', 'depan', 'Dengan', 'Menggunakan', 'Python', 'Library', 'Sastrawi', 'dapat', 'melakukan', 'proses', 'Stopword', 'Removal']\n"
   ]
  },
  {
   "cell_type": "code",
   "execution_count": 5,
   "metadata": {},
   "outputs": [
    {
     "ename": "TypeError",
     "evalue": "'type' object is not subscriptable",
     "output_type": "error",
     "traceback": [
      "\u001b[1;31m---------------------------------------------------------------------------\u001b[0m",
      "\u001b[1;31mTypeError\u001b[0m                                 Traceback (most recent call last)",
      "\u001b[1;32m<ipython-input-5-1713abf3521f>\u001b[0m in \u001b[0;36m<module>\u001b[1;34m\u001b[0m\n\u001b[1;32m----> 1\u001b[1;33m \u001b[0mlist\u001b[0m\u001b[1;33m[\u001b[0m\u001b[1;36m1\u001b[0m\u001b[1;33m]\u001b[0m\u001b[1;33m\u001b[0m\u001b[1;33m\u001b[0m\u001b[0m\n\u001b[0m",
      "\u001b[1;31mTypeError\u001b[0m: 'type' object is not subscriptable"
     ]
    }
   ],
   "source": [
    "list[1]\n"
   ]
  },
  {
   "cell_type": "code",
   "execution_count": null,
   "metadata": {},
   "outputs": [],
   "source": []
  }
 ],
 "metadata": {
  "kernelspec": {
   "display_name": "Python 3",
   "language": "python",
   "name": "python3"
  },
  "language_info": {
   "codemirror_mode": {
    "name": "ipython",
    "version": 3
   },
   "file_extension": ".py",
   "mimetype": "text/x-python",
   "name": "python",
   "nbconvert_exporter": "python",
   "pygments_lexer": "ipython3",
   "version": "3.7.3"
  }
 },
 "nbformat": 4,
 "nbformat_minor": 4
}
