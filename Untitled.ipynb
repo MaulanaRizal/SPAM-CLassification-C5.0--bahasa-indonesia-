{
 "cells": [
  {
   "cell_type": "code",
   "execution_count": 1,
   "metadata": {},
   "outputs": [],
   "source": [
    "import numpy as np\n",
    "import pandas as pd"
   ]
  },
  {
   "cell_type": "code",
   "execution_count": 2,
   "metadata": {},
   "outputs": [],
   "source": [
    "data = pd.read_csv('dataset/baru.csv')\n",
    "data = data.head()"
   ]
  },
  {
   "cell_type": "code",
   "execution_count": 3,
   "metadata": {},
   "outputs": [
    {
     "data": {
      "text/html": [
       "<div>\n",
       "<style scoped>\n",
       "    .dataframe tbody tr th:only-of-type {\n",
       "        vertical-align: middle;\n",
       "    }\n",
       "\n",
       "    .dataframe tbody tr th {\n",
       "        vertical-align: top;\n",
       "    }\n",
       "\n",
       "    .dataframe thead th {\n",
       "        text-align: right;\n",
       "    }\n",
       "</style>\n",
       "<table border=\"1\" class=\"dataframe\">\n",
       "  <thead>\n",
       "    <tr style=\"text-align: right;\">\n",
       "      <th></th>\n",
       "      <th>Chapter</th>\n",
       "      <th>Verse</th>\n",
       "      <th>Meaning</th>\n",
       "      <th>label</th>\n",
       "      <th>clean_teks</th>\n",
       "    </tr>\n",
       "  </thead>\n",
       "  <tbody>\n",
       "    <tr>\n",
       "      <th>0</th>\n",
       "      <td>78</td>\n",
       "      <td>1</td>\n",
       "      <td>Tentang apakah mereka saling bertanya-tanya?</td>\n",
       "      <td>lainnya</td>\n",
       "      <td>apakah saling tanya tanya</td>\n",
       "    </tr>\n",
       "    <tr>\n",
       "      <th>1</th>\n",
       "      <td>78</td>\n",
       "      <td>2</td>\n",
       "      <td>Tentang berita yang besar (hari berbangkit)</td>\n",
       "      <td>kiamat</td>\n",
       "      <td>berita besar hari bangkit</td>\n",
       "    </tr>\n",
       "    <tr>\n",
       "      <th>2</th>\n",
       "      <td>78</td>\n",
       "      <td>3</td>\n",
       "      <td>yang dalam hal itu mereka berselisih.</td>\n",
       "      <td>lainnya</td>\n",
       "      <td>dalam itu selisih</td>\n",
       "    </tr>\n",
       "    <tr>\n",
       "      <th>3</th>\n",
       "      <td>78</td>\n",
       "      <td>4</td>\n",
       "      <td>Sekali-kali tidak; kelak mereka akan mengetahui,</td>\n",
       "      <td>lainnya</td>\n",
       "      <td>sekali kali kelak akan tahu</td>\n",
       "    </tr>\n",
       "    <tr>\n",
       "      <th>4</th>\n",
       "      <td>78</td>\n",
       "      <td>5</td>\n",
       "      <td>kemudian sekali-kali tidak; kelak mereka menge...</td>\n",
       "      <td>lainnya</td>\n",
       "      <td>kemudian sekali kali kelak tahu</td>\n",
       "    </tr>\n",
       "  </tbody>\n",
       "</table>\n",
       "</div>"
      ],
      "text/plain": [
       "   Chapter  Verse                                            Meaning    label  \\\n",
       "0       78      1       Tentang apakah mereka saling bertanya-tanya?  lainnya   \n",
       "1       78      2        Tentang berita yang besar (hari berbangkit)   kiamat   \n",
       "2       78      3              yang dalam hal itu mereka berselisih.  lainnya   \n",
       "3       78      4   Sekali-kali tidak; kelak mereka akan mengetahui,  lainnya   \n",
       "4       78      5  kemudian sekali-kali tidak; kelak mereka menge...  lainnya   \n",
       "\n",
       "                        clean_teks  \n",
       "0        apakah saling tanya tanya  \n",
       "1        berita besar hari bangkit  \n",
       "2                dalam itu selisih  \n",
       "3      sekali kali kelak akan tahu  \n",
       "4  kemudian sekali kali kelak tahu  "
      ]
     },
     "execution_count": 3,
     "metadata": {},
     "output_type": "execute_result"
    }
   ],
   "source": [
    "data"
   ]
  },
  {
   "cell_type": "code",
   "execution_count": 7,
   "metadata": {},
   "outputs": [
    {
     "data": {
      "text/plain": [
       "['apakah saling tanya tanya',\n",
       " 'berita besar hari bangkit',\n",
       " 'dalam itu selisih',\n",
       " 'sekali kali kelak akan tahu',\n",
       " 'kemudian sekali kali kelak tahu']"
      ]
     },
     "execution_count": 7,
     "metadata": {},
     "output_type": "execute_result"
    }
   ],
   "source": [
    "sms = data['clean_teks'].tolist()\n",
    "sms"
   ]
  },
  {
   "cell_type": "code",
   "execution_count": 8,
   "metadata": {},
   "outputs": [],
   "source": [
    "def getKalimat(sms):\n",
    "    str1 = \" \" \n",
    "    kalimat = str1.join(sms)\n",
    "\n",
    "    return kalimat\n",
    "\n",
    "kalimat = getKalimat(sms)"
   ]
  },
  {
   "cell_type": "code",
   "execution_count": 9,
   "metadata": {},
   "outputs": [],
   "source": [
    "kata = kalimat.split()\n",
    "kataUnik = {}\n",
    "\n",
    "for word in kata:\n",
    "    kataUnik[word] = word"
   ]
  },
  {
   "cell_type": "code",
   "execution_count": 10,
   "metadata": {},
   "outputs": [
    {
     "data": {
      "text/plain": [
       "16"
      ]
     },
     "execution_count": 10,
     "metadata": {},
     "output_type": "execute_result"
    }
   ],
   "source": [
    "Keys = kataUnik.keys()\n",
    "kataKunci = []\n",
    "\n",
    "for kunci in Keys:\n",
    "    kataKunci.append(kunci)\n",
    "\n",
    "len(kataKunci)"
   ]
  },
  {
   "cell_type": "code",
   "execution_count": 11,
   "metadata": {},
   "outputs": [],
   "source": [
    "from sklearn.feature_extraction.text import TfidfTransformer\n",
    "from sklearn.feature_extraction.text import CountVectorizer\n",
    "from sklearn.pipeline import Pipeline"
   ]
  },
  {
   "cell_type": "code",
   "execution_count": 12,
   "metadata": {},
   "outputs": [],
   "source": [
    "vocabulary = kataKunci\n",
    "corpus = sms\n",
    "\n",
    "pipe = Pipeline([('count', CountVectorizer(vocabulary=vocabulary)),('tfid', TfidfTransformer())]).fit(corpus)"
   ]
  },
  {
   "cell_type": "code",
   "execution_count": 13,
   "metadata": {
    "scrolled": true
   },
   "outputs": [
    {
     "data": {
      "text/plain": [
       "array([[1, 1, 2, 0, 0, 0, 0, 0, 0, 0, 0, 0, 0, 0, 0, 0],\n",
       "       [0, 0, 0, 1, 1, 1, 1, 0, 0, 0, 0, 0, 0, 0, 0, 0],\n",
       "       [0, 0, 0, 0, 0, 0, 0, 1, 1, 1, 0, 0, 0, 0, 0, 0],\n",
       "       [0, 0, 0, 0, 0, 0, 0, 0, 0, 0, 1, 1, 1, 1, 1, 0],\n",
       "       [0, 0, 0, 0, 0, 0, 0, 0, 0, 0, 1, 1, 1, 0, 1, 1]], dtype=int64)"
      ]
     },
     "execution_count": 13,
     "metadata": {},
     "output_type": "execute_result"
    }
   ],
   "source": [
    "pipe['count'].transform(corpus).toarray()"
   ]
  },
  {
   "cell_type": "code",
   "execution_count": 14,
   "metadata": {
    "scrolled": true
   },
   "outputs": [
    {
     "data": {
      "text/plain": [
       "16"
      ]
     },
     "execution_count": 14,
     "metadata": {},
     "output_type": "execute_result"
    }
   ],
   "source": [
    "tfidfValue = pipe['tfid'].idf_\n",
    "len(tfidfValue)"
   ]
  },
  {
   "cell_type": "code",
   "execution_count": 15,
   "metadata": {},
   "outputs": [
    {
     "data": {
      "text/plain": [
       "16"
      ]
     },
     "execution_count": 15,
     "metadata": {},
     "output_type": "execute_result"
    }
   ],
   "source": [
    "len(kataKunci)"
   ]
  },
  {
   "cell_type": "code",
   "execution_count": 16,
   "metadata": {
    "scrolled": true
   },
   "outputs": [],
   "source": [
    "tfidf = {}\n",
    "\n",
    "for i in range(len(kataKunci)):\n",
    "    tfidf[kataKunci[i]] = tfidfValue[i]"
   ]
  },
  {
   "cell_type": "code",
   "execution_count": 17,
   "metadata": {
    "scrolled": true
   },
   "outputs": [
    {
     "data": {
      "text/plain": [
       "{'apakah': 2.09861228866811,\n",
       " 'saling': 2.09861228866811,\n",
       " 'tanya': 2.09861228866811,\n",
       " 'berita': 2.09861228866811,\n",
       " 'besar': 2.09861228866811,\n",
       " 'hari': 2.09861228866811,\n",
       " 'bangkit': 2.09861228866811,\n",
       " 'dalam': 2.09861228866811,\n",
       " 'itu': 2.09861228866811,\n",
       " 'selisih': 2.09861228866811,\n",
       " 'sekali': 1.6931471805599454,\n",
       " 'kali': 1.6931471805599454,\n",
       " 'kelak': 1.6931471805599454,\n",
       " 'akan': 2.09861228866811,\n",
       " 'tahu': 1.6931471805599454,\n",
       " 'kemudian': 2.09861228866811}"
      ]
     },
     "execution_count": 17,
     "metadata": {},
     "output_type": "execute_result"
    }
   ],
   "source": [
    "tfidf"
   ]
  },
  {
   "cell_type": "code",
   "execution_count": 40,
   "metadata": {},
   "outputs": [
    {
     "data": {
      "text/html": [
       "<div>\n",
       "<style scoped>\n",
       "    .dataframe tbody tr th:only-of-type {\n",
       "        vertical-align: middle;\n",
       "    }\n",
       "\n",
       "    .dataframe tbody tr th {\n",
       "        vertical-align: top;\n",
       "    }\n",
       "\n",
       "    .dataframe thead th {\n",
       "        text-align: right;\n",
       "    }\n",
       "</style>\n",
       "<table border=\"1\" class=\"dataframe\">\n",
       "  <thead>\n",
       "    <tr style=\"text-align: right;\">\n",
       "      <th></th>\n",
       "      <th>Kata Kunci</th>\n",
       "      <th>TFIDF Value</th>\n",
       "    </tr>\n",
       "  </thead>\n",
       "  <tbody>\n",
       "    <tr>\n",
       "      <th>0</th>\n",
       "      <td>promo</td>\n",
       "      <td>3.751827</td>\n",
       "    </tr>\n",
       "    <tr>\n",
       "      <th>1</th>\n",
       "      <td>beli</td>\n",
       "      <td>4.071994</td>\n",
       "    </tr>\n",
       "    <tr>\n",
       "      <th>2</th>\n",
       "      <td>paket</td>\n",
       "      <td>3.672838</td>\n",
       "    </tr>\n",
       "    <tr>\n",
       "      <th>3</th>\n",
       "      <td>flash</td>\n",
       "      <td>4.641089</td>\n",
       "    </tr>\n",
       "    <tr>\n",
       "      <th>4</th>\n",
       "      <td>mulai</td>\n",
       "      <td>4.515926</td>\n",
       "    </tr>\n",
       "    <tr>\n",
       "      <th>...</th>\n",
       "      <td>...</td>\n",
       "      <td>...</td>\n",
       "    </tr>\n",
       "    <tr>\n",
       "      <th>3526</th>\n",
       "      <td>beaok</td>\n",
       "      <td>7.349139</td>\n",
       "    </tr>\n",
       "    <tr>\n",
       "      <th>3527</th>\n",
       "      <td>bwrangkat</td>\n",
       "      <td>7.349139</td>\n",
       "    </tr>\n",
       "    <tr>\n",
       "      <th>3528</th>\n",
       "      <td>cas</td>\n",
       "      <td>7.349139</td>\n",
       "    </tr>\n",
       "    <tr>\n",
       "      <th>3529</th>\n",
       "      <td>atay</td>\n",
       "      <td>7.349139</td>\n",
       "    </tr>\n",
       "    <tr>\n",
       "      <th>3530</th>\n",
       "      <td>tranfer</td>\n",
       "      <td>7.349139</td>\n",
       "    </tr>\n",
       "  </tbody>\n",
       "</table>\n",
       "<p>3531 rows × 2 columns</p>\n",
       "</div>"
      ],
      "text/plain": [
       "     Kata Kunci  TFIDF Value\n",
       "0         promo     3.751827\n",
       "1          beli     4.071994\n",
       "2         paket     3.672838\n",
       "3         flash     4.641089\n",
       "4         mulai     4.515926\n",
       "...         ...          ...\n",
       "3526      beaok     7.349139\n",
       "3527  bwrangkat     7.349139\n",
       "3528        cas     7.349139\n",
       "3529       atay     7.349139\n",
       "3530    tranfer     7.349139\n",
       "\n",
       "[3531 rows x 2 columns]"
      ]
     },
     "execution_count": 40,
     "metadata": {},
     "output_type": "execute_result"
    }
   ],
   "source": [
    "import pandas as pd \n",
    "data = []\n",
    "# initialize list of lists \n",
    "for i in range(len(kataKunci)):\n",
    "    data.append([])\n",
    "    data[i].append(kataKunci[i])\n",
    "    data[i].append(tfidfValue[i])\n",
    "    \n",
    "# Create the pandas DataFrame \n",
    "df = pd.DataFrame(data, columns = ['Kata Kunci', 'TFIDF Value']) \n",
    "\n",
    "df"
   ]
  }
 ],
 "metadata": {
  "kernelspec": {
   "display_name": "Python 3",
   "language": "python",
   "name": "python3"
  },
  "language_info": {
   "codemirror_mode": {
    "name": "ipython",
    "version": 3
   },
   "file_extension": ".py",
   "mimetype": "text/x-python",
   "name": "python",
   "nbconvert_exporter": "python",
   "pygments_lexer": "ipython3",
   "version": "3.7.3"
  }
 },
 "nbformat": 4,
 "nbformat_minor": 4
}
