{
 "cells": [
  {
   "cell_type": "code",
   "execution_count": 1,
   "metadata": {},
   "outputs": [
    {
     "data": {
      "text/plain": [
       "{'hutang': 12,\n",
       " 'tadi': 2,\n",
       " 'di': 1,\n",
       " 'dekan': 1,\n",
       " 'hutan': 1,\n",
       " 'jam': 1,\n",
       " 'sepuluh': 1}"
      ]
     },
     "execution_count": 1,
     "metadata": {},
     "output_type": "execute_result"
    }
   ],
   "source": [
    "a = 'hutang tadi di hutang dekan hutan jam sepuluh tadi'\n",
    "\n",
    "df = {\n",
    "    \"hutang\" : 10\n",
    "}\n",
    "kata = a.split()\n",
    "for word in kata:\n",
    "    count = df.get(word,0)\n",
    "    df[word] = count+1\n",
    "\n",
    "df"
   ]
  },
  {
   "cell_type": "code",
   "execution_count": null,
   "metadata": {},
   "outputs": [],
   "source": []
  }
 ],
 "metadata": {
  "kernelspec": {
   "display_name": "Python 3",
   "language": "python",
   "name": "python3"
  },
  "language_info": {
   "codemirror_mode": {
    "name": "ipython",
    "version": 3
   },
   "file_extension": ".py",
   "mimetype": "text/x-python",
   "name": "python",
   "nbconvert_exporter": "python",
   "pygments_lexer": "ipython3",
   "version": "3.7.3"
  }
 },
 "nbformat": 4,
 "nbformat_minor": 4
}
